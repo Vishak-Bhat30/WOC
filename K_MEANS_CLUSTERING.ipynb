{
 "cells": [
  {
   "cell_type": "markdown",
   "id": "5ae849f2",
   "metadata": {},
   "source": [
    "# K MEANS CLSUTERING "
   ]
  },
  {
   "cell_type": "code",
   "execution_count": 1,
   "id": "325f2283",
   "metadata": {},
   "outputs": [],
   "source": [
    "import numpy as np\n",
    "import pandas as pd\n",
    "get_ipython().run_line_magic('matplotlib', 'inline')\n",
    "from matplotlib import pyplot as plt\n"
   ]
  },
  {
   "cell_type": "code",
   "execution_count": 2,
   "id": "609278c8",
   "metadata": {},
   "outputs": [],
   "source": [
    "def input_data(s):\n",
    "    data=pd.read_csv(s,header=None)\n",
    "    data=data.to_numpy()\n",
    "    X=data[:,1:]\n",
    "    m,n=X.shape\n",
    "    y_train=data[:,0].reshape(m,1)\n",
    "    return X , y_train,m,n\n",
    "\n",
    "\n",
    "\n",
    "\n",
    "def initial_centroid_initializing(X):\n",
    "        m_train,n_train=X.shape\n",
    "        K=26\n",
    "        index=np.random.randint(0,m_train,26)\n",
    "        centroid=[]\n",
    "        for i in index:\n",
    "            \n",
    "            centroid.append(X[i])\n",
    "            \n",
    "            \n",
    "        return np.array(centroid)\n",
    "    \n",
    " \n",
    "\n",
    "\n",
    "\n",
    "def KMC(centroid,X):\n",
    "        m,n=X.shape\n",
    "        cluster_grp=np.zeros((m,1))\n",
    "        for i in range(m):\n",
    "            diff=centroid-X[i]\n",
    "            square=diff**2\n",
    "            add=np.sum(square,axis=1)\n",
    "            dist=np.sqrt(add).reshape(26,1)\n",
    "#             print(dist)\n",
    "#             print(dist.shape)\n",
    "            index=np.argmin(dist)\n",
    "            cluster_grp[i]=index+1\n",
    "#             print(cluster_grp[i])\n",
    "        return cluster_grp \n",
    "    \n",
    "    \n",
    "# def initial_cluster_making(centroid,X):\n",
    "#     m,n=X.shape\n",
    "#     for i in range(m):\n",
    "#         dist=distance(centroid,X)\n",
    "#         ptint(dist)\n",
    "    \n",
    "    \n",
    "def future_centroids(cluster_grp,X_train):\n",
    "    m=cluster_grp.size\n",
    "    centroid_new=[]\n",
    "    for j in range(1,27):\n",
    "        grp=[]\n",
    "        for i in range(m):\n",
    "            if (cluster_grp[i]==j):\n",
    "                grp.append(X_train[i])\n",
    "        grp=np.mean(grp,axis=0)\n",
    "        centroid_new.append(grp)\n",
    "#         print(f'the iteration number is {j}out of 26')\n",
    "    return np.array(centroid_new)\n",
    "        \n",
    "        \n",
    "            \n",
    "def KMeans(centroid_new,X_train):\n",
    "    for i in range(50):\n",
    "        clustering=KMC(centroid_new,X_train)\n",
    "        centroid_new=future_centroids(clustering,X_train)\n",
    "#         print(wc_ss(centroid_new,X_train))\n",
    "        print(f'the iteration number is {i}out of 50')\n",
    "    return clustering\n",
    "\n",
    "\n",
    "def wc_ss(centroid,X_train):\n",
    "    \n",
    "    m,n=X_train.shape\n",
    "    wcss=0\n",
    "    for i in range(m):\n",
    "        wcss=wcss+np.sum(((centroid-X_train[i])**2))\n",
    "        \n",
    "    return wcss"
   ]
  },
  {
   "cell_type": "code",
   "execution_count": 3,
   "id": "c9c94b1b",
   "metadata": {},
   "outputs": [],
   "source": [
    "X_train, y_train, m_train, n_train=input_data('emnist-letters-test.csv')\n"
   ]
  },
  {
   "cell_type": "code",
   "execution_count": 4,
   "id": "9b6eb39e",
   "metadata": {},
   "outputs": [],
   "source": [
    "K=26"
   ]
  },
  {
   "cell_type": "code",
   "execution_count": 5,
   "id": "e9b58a91",
   "metadata": {},
   "outputs": [],
   "source": [
    "centroid=(initial_centroid_initializing(X_train))"
   ]
  },
  {
   "cell_type": "code",
   "execution_count": 6,
   "id": "0eb6ab14",
   "metadata": {},
   "outputs": [],
   "source": [
    "index=np.random.randint(0,m_train,26)\n",
    "# type(index)"
   ]
  },
  {
   "cell_type": "code",
   "execution_count": 7,
   "id": "ca64a305",
   "metadata": {},
   "outputs": [],
   "source": [
    "cluster_random=KMC(centroid,X_train)"
   ]
  },
  {
   "cell_type": "code",
   "execution_count": 8,
   "id": "45010c4e",
   "metadata": {},
   "outputs": [],
   "source": [
    "centroid_new=future_centroids(cluster_random,X_train)"
   ]
  },
  {
   "cell_type": "code",
   "execution_count": 9,
   "id": "90bf4467",
   "metadata": {},
   "outputs": [
    {
     "name": "stdout",
     "output_type": "stream",
     "text": [
      "the iteration number is 0out of 500\n",
      "the iteration number is 1out of 500\n",
      "the iteration number is 2out of 500\n",
      "the iteration number is 3out of 500\n",
      "the iteration number is 4out of 500\n",
      "the iteration number is 5out of 500\n",
      "the iteration number is 6out of 500\n",
      "the iteration number is 7out of 500\n",
      "the iteration number is 8out of 500\n",
      "the iteration number is 9out of 500\n",
      "the iteration number is 10out of 500\n",
      "the iteration number is 11out of 500\n",
      "the iteration number is 12out of 500\n",
      "the iteration number is 13out of 500\n",
      "the iteration number is 14out of 500\n",
      "the iteration number is 15out of 500\n",
      "the iteration number is 16out of 500\n",
      "the iteration number is 17out of 500\n",
      "the iteration number is 18out of 500\n",
      "the iteration number is 19out of 500\n",
      "the iteration number is 20out of 500\n",
      "the iteration number is 21out of 500\n",
      "the iteration number is 22out of 500\n",
      "the iteration number is 23out of 500\n",
      "the iteration number is 24out of 500\n",
      "the iteration number is 25out of 500\n",
      "the iteration number is 26out of 500\n",
      "the iteration number is 27out of 500\n",
      "the iteration number is 28out of 500\n",
      "the iteration number is 29out of 500\n",
      "the iteration number is 30out of 500\n",
      "the iteration number is 31out of 500\n",
      "the iteration number is 32out of 500\n",
      "the iteration number is 33out of 500\n",
      "the iteration number is 34out of 500\n",
      "the iteration number is 35out of 500\n",
      "the iteration number is 36out of 500\n",
      "the iteration number is 37out of 500\n",
      "the iteration number is 38out of 500\n",
      "the iteration number is 39out of 500\n",
      "the iteration number is 40out of 500\n",
      "the iteration number is 41out of 500\n",
      "the iteration number is 42out of 500\n",
      "the iteration number is 43out of 500\n",
      "the iteration number is 44out of 500\n",
      "the iteration number is 45out of 500\n",
      "the iteration number is 46out of 500\n",
      "the iteration number is 47out of 500\n",
      "the iteration number is 48out of 500\n",
      "the iteration number is 49out of 500\n"
     ]
    }
   ],
   "source": [
    "cluster_final=KMeans(centroid_new,X_train)"
   ]
  },
  {
   "cell_type": "code",
   "execution_count": 14,
   "id": "3c71420b",
   "metadata": {},
   "outputs": [
    {
     "data": {
      "text/plain": [
       "array([[15.],\n",
       "       [24.],\n",
       "       [16.],\n",
       "       [ 4.],\n",
       "       [12.],\n",
       "       [24.],\n",
       "       [15.],\n",
       "       [25.],\n",
       "       [15.],\n",
       "       [ 4.]])"
      ]
     },
     "execution_count": 14,
     "metadata": {},
     "output_type": "execute_result"
    }
   ],
   "source": [
    "cluster_final[20:30]"
   ]
  },
  {
   "cell_type": "code",
   "execution_count": 19,
   "id": "1e6789fb",
   "metadata": {},
   "outputs": [
    {
     "data": {
      "text/plain": [
       "(14800, 1)"
      ]
     },
     "execution_count": 19,
     "metadata": {},
     "output_type": "execute_result"
    }
   ],
   "source": [
    "cluster_final.shape"
   ]
  },
  {
   "cell_type": "code",
   "execution_count": 21,
   "id": "9a316999",
   "metadata": {},
   "outputs": [
    {
     "data": {
      "text/plain": [
       "(14800, 784)"
      ]
     },
     "execution_count": 21,
     "metadata": {},
     "output_type": "execute_result"
    }
   ],
   "source": [
    "X_train.shape"
   ]
  },
  {
   "cell_type": "code",
   "execution_count": null,
   "id": "8337d489",
   "metadata": {},
   "outputs": [],
   "source": []
  }
 ],
 "metadata": {
  "kernelspec": {
   "display_name": "Python 3 (ipykernel)",
   "language": "python",
   "name": "python3"
  },
  "language_info": {
   "codemirror_mode": {
    "name": "ipython",
    "version": 3
   },
   "file_extension": ".py",
   "mimetype": "text/x-python",
   "name": "python",
   "nbconvert_exporter": "python",
   "pygments_lexer": "ipython3",
   "version": "3.10.2"
  }
 },
 "nbformat": 4,
 "nbformat_minor": 5
}
