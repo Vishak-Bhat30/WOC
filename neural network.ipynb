{
 "cells": [
  {
   "cell_type": "markdown",
   "id": "6b7f802e",
   "metadata": {},
   "source": [
    "# Neural Network"
   ]
  },
  {
   "cell_type": "markdown",
   "id": "a78cfb71",
   "metadata": {},
   "source": [
    "CLASSIFICATION"
   ]
  },
  {
   "cell_type": "markdown",
   "id": "13c2141e",
   "metadata": {},
   "source": [
    "IMPORTING THE MODULES"
   ]
  },
  {
   "cell_type": "code",
   "execution_count": 1,
   "id": "f323547e",
   "metadata": {},
   "outputs": [],
   "source": [
    "\n",
    "import numpy as np\n",
    "import pandas as pd\n",
    "get_ipython().run_line_magic('matplotlib', 'inline')\n",
    "from matplotlib import pyplot as plt"
   ]
  },
  {
   "cell_type": "markdown",
   "id": "858144df",
   "metadata": {},
   "source": [
    "DEFINING FEW GOOD FUNCTIONS"
   ]
  },
  {
   "cell_type": "code",
   "execution_count": 19,
   "id": "20a8dc3f",
   "metadata": {},
   "outputs": [],
   "source": [
    "'''convers the vector into matrix of binary used for the multiclass classification'''\n",
    "def vector_to_matrix_of_zeros_and_ones(vect, classes):\n",
    "    m=vect.size\n",
    "    Y=np.zeros((m,classes))\n",
    "    flag=0\n",
    "    for i in vect:\n",
    "        Y[flag][i-1]=1\n",
    "        flag+=1\n",
    "    \n",
    "    return Y \n",
    "\n",
    "\n",
    "\n",
    "'''returns the sigmoid'''\n",
    "def sigmoid (input):\n",
    "    return 1/(1+np.exp(-input))\n",
    "\n",
    "\n",
    "'''inputs the data from the user and returns the X and y values'''\n",
    "\n",
    "def input_data(s):\n",
    "    print(\"uploading a  csv file that is appropriate for logistc regression.......\")\n",
    "\n",
    "    X=pd.read_csv(s,header=None)   #load the training data\n",
    "\n",
    "    # n=int(input(\"enter the number of features.....\"))\n",
    "\n",
    "    X=X.to_numpy()    #converting to numpy\n",
    "    i=len(X[0])       #finding the number of features\n",
    "    m=X[:,0].size   \n",
    "    y=X[:,0].reshape((m,1))\n",
    "    X=np.delete(X,0,axis=1) \n",
    "    n=i                     #n is number of features\n",
    "#     mean=np.mean(X,axis=1).reshape((m,1))\n",
    "#     std=np.std(X,axis=1).reshape((m,1))\n",
    "#     X=(X-mean)/std\n",
    "    u=np.ones((m,1))            #vector of ones then p.\n",
    "    # mean=np.mean(X,axis=1).reshape((m,1))\n",
    "    # std=np.std(X,axis=1).reshape((m,1))\n",
    "    X=X/255\n",
    "    X=np.concatenate((u,X),axis=1)\n",
    "#     print(X)\n",
    "    return X,y\n",
    "\n",
    "\n",
    "\n",
    "'''randomly assigns the value of the parameters for the given size of the matrix '''\n",
    "def parameters(L_next,L_current):\n",
    "    #dimension = L_next*L_current                            \n",
    "    epsilon = 0.12\n",
    "    theta= - epsilon + np.random.rand(L_next, L_current) * 2 * epsilon\n",
    "    return theta\n",
    "    \n",
    "'''gives the gradinet of the sigmoid'''    \n",
    "def siggrad(z):\n",
    "    g=np.zeros((z.shape))\n",
    "    g=sigmoid(z)*(1-sigmoid(z))\n",
    "    return g\n",
    "\n",
    "\"\"\"returns the cost of the clssification problem\"\"\"\n",
    "    \n",
    "def cost(theta1,theta2,X_train,Y,lamba=0):         #forward propagation\n",
    "    m,n=X_train.shape\n",
    "    u=np.ones((m,1))\n",
    "#     X_train=np.concatenate((u,X_train),axis=1)\n",
    "    a1 = X_train    #m*n\n",
    "    z2 = a1@(theta1.T)  #  m,n  @  n,hiddensize\n",
    "    a2 = sigmoid(z2) # m x hidden_layer\n",
    "    a2 = np.concatenate((u,a2),axis=1)   \n",
    "    z3 = a2@(theta2.T)    \n",
    "    a3 = sigmoid(z3)\n",
    "    h_x = a3\n",
    "    J=J = (1/m)*(np.sum((-Y*np.log(h_x))-((1-Y)*np.log(1-h_x))))+(lamba/2*m)*((np.sum(theta1**2)+np.sum(theta2**2)))\n",
    "    return J,h_x\n",
    "    \n",
    "#back propagation\n",
    "'''used to find the gradient of the parameters'''\n",
    "def back_prop(theta1,theta2,X,Y):\n",
    "    theta1_grad = np.zeros(theta1.shape)\n",
    "    theta2_grad = np.zeros(theta2.shape)\n",
    "    A1 = X       # m,785\n",
    "    Z2 = A1@theta1.T      # mx hidden_layer_size == m x 784\n",
    "    A2 = sigmoid(Z2)      #  m x hidden_layer_size == mx 784\n",
    "    m,n=X.shape\n",
    "    u=np.ones((m,1))\n",
    "    A2 = np.concatenate((u,A2),axis=1)\n",
    "    Z3 = A2@theta2.T         #m x num_labels == m x 26\n",
    "    A3 = sigmoid(Z3) \n",
    "    h_x = A3                  #m,26\n",
    "    DELTA3 = A3 - Y\n",
    "    m,n=(DELTA3@theta2).shape\n",
    "    DELTA2 = (DELTA3@theta2)*(np.concatenate((np.ones((m,1)),siggrad(Z2)),axis=1))    #m,525    *\n",
    "    DELTA2 = DELTA2[:,1:]\n",
    "    theta1_grad = (1/m) * (DELTA2.T @ A1)\n",
    "    theta2_grad = (1/m) * (DELTA3.T @ A2)\n",
    "    return theta1_grad,theta2_grad\n",
    "\n",
    "\n",
    "'''here the loops run in order to optimise the value of theta'''\n",
    "def grad_descent(theta1,theta2,X,Y):\n",
    "    alpha=0.01\n",
    "    for i in range(200):\n",
    "        theta1_grad,theta2_grad=back_prop(theta1,theta2,X,Y)\n",
    "        theta2=theta2-theta2_grad*alpha\n",
    "        theta1=theta1-theta1_grad*alpha\n",
    "        J,h_x=cost(theta1,theta2,X_train,Y)\n",
    "        plt.scatter(i,J)\n",
    "        print(J)\n",
    "\n",
    "\n",
    "    return theta1,theta2,h_x\n",
    "\n",
    "\n",
    "'''this converts the sigmoid matrix outputted from the prediction and convers into viewable form of the vector'''\n",
    "def convert_matrix_into_VECTOR(h_x):\n",
    "    m,k = h_x.shape\n",
    "    h = np.zeros((m,1))\n",
    "    for i in range(m):\n",
    "        a_sliced = h_x[i]\n",
    "        index = np.where(a_sliced == np.amax(a_sliced))[0]\n",
    "        h[i] = index+1\n",
    "            \n",
    "    return h\n",
    "\n",
    "\n",
    "\n",
    "'''lastly this fucntion is used to define the accuracy of the prediction'''\n",
    "def accuracy(h,y):\n",
    "    m=y.size\n",
    "    count=0\n",
    "    for i in range(m):\n",
    "        if h[i]==y[i]:\n",
    "            count+=1\n",
    "    accu=(count/m)*100\n",
    "    return accu\n",
    "\n",
    "\n",
    "def predict(theta1,theta2,X):\n",
    "#     X=X/255\n",
    "    m,n=X.shape\n",
    "    u=np.ones((m,1))\n",
    "    a1 = X    #m*n\n",
    "    z2 = a1@(theta1.T)  #  m,n  @  n,hiddensize\n",
    "    a2 = sigmoid(z2) # m x hidden_layer\n",
    "    a2 = np.concatenate((u,a2),axis=1)   \n",
    "    z3 = a2@(theta2.T)    \n",
    "    a3 = sigmoid(z3)\n",
    "    h_x = a3\n",
    "    return convert_matrix_into_VECTOR(h_x)\n",
    "    "
   ]
  },
  {
   "cell_type": "markdown",
   "id": "9b8f091b",
   "metadata": {},
   "source": [
    "inputting the data"
   ]
  },
  {
   "cell_type": "code",
   "execution_count": 3,
   "id": "6a0c544e",
   "metadata": {},
   "outputs": [
    {
     "name": "stdout",
     "output_type": "stream",
     "text": [
      "uploading a  csv file that is appropriate for logistc regression.......\n"
     ]
    }
   ],
   "source": [
    "X_train,y_train=input_data('emnist-letters-train.csv')"
   ]
  },
  {
   "cell_type": "markdown",
   "id": "079f1110",
   "metadata": {},
   "source": [
    "calling the functions to initialise theta and setting the units of the hidden layer\n"
   ]
  },
  {
   "cell_type": "code",
   "execution_count": 4,
   "id": "9a6d34a9",
   "metadata": {},
   "outputs": [],
   "source": [
    "Y=vector_to_matrix_of_zeros_and_ones(y_train,26)\n",
    "L_hidden=524\n",
    "classes=26\n",
    "m_train,n_train=X_train.shape\n",
    "theta1=parameters(L_hidden,n_train)\n",
    "theta2=parameters(classes,L_hidden+1)"
   ]
  },
  {
   "cell_type": "code",
   "execution_count": 5,
   "id": "70b4c10d",
   "metadata": {},
   "outputs": [
    {
     "data": {
      "text/plain": [
       "(26, 525)"
      ]
     },
     "execution_count": 5,
     "metadata": {},
     "output_type": "execute_result"
    }
   ],
   "source": [
    "theta1.shape\n",
    "theta2.shape"
   ]
  },
  {
   "cell_type": "code",
   "execution_count": 6,
   "id": "67b6e0d0",
   "metadata": {},
   "outputs": [
    {
     "name": "stdout",
     "output_type": "stream",
     "text": [
      "12.46809926715461\n",
      "8.971152272505515\n",
      "7.2886310955957025\n",
      "6.360977455984981\n",
      "5.792458638428097\n",
      "5.417300334802158\n",
      "5.156276903225883\n",
      "4.9673615632421155\n",
      "4.826412388696878\n",
      "4.7186788146395395\n",
      "4.634697028615477\n",
      "4.568150314785706\n",
      "4.514682920172366\n",
      "4.4712082716887105\n",
      "4.435487984753371\n",
      "4.405866246686104\n",
      "4.381096951788803\n",
      "4.360228129882764\n",
      "4.342522835519\n",
      "4.327403855884353\n",
      "4.31441434401391\n",
      "4.303189322412007\n",
      "4.2934347457765165\n",
      "4.284911909035283\n",
      "4.2774256931219865\n",
      "4.270815604508067\n",
      "4.264948874404041\n",
      "4.259715094170243\n",
      "4.255022008831232\n",
      "4.25079219231617\n",
      "4.246960400171907\n",
      "4.24347144725017\n",
      "4.240278495424709\n",
      "4.237341663930405\n",
      "4.234626895303081\n",
      "4.232105025131215\n",
      "4.229751015308827\n",
      "4.227543319197791\n",
      "4.22546335378137\n",
      "4.223495059034379\n",
      "4.221624528727866\n",
      "4.2198397000033365\n",
      "4.21813009150154\n",
      "4.216486581766251\n",
      "4.214901221181364\n",
      "4.213367071927954\n",
      "4.211878071433432\n",
      "4.210428915579655\n",
      "4.209014958580673\n",
      "4.207632126964032\n",
      "4.206276845517281\n",
      "4.204945973411751\n",
      "4.203636749004057\n",
      "4.202346742053982\n",
      "4.201073812294793\n",
      "4.199816073455991\n",
      "4.198571861975415\n",
      "4.197339709751995\n",
      "4.19611832038648\n",
      "4.1949065484380395\n",
      "4.193703381293069\n",
      "4.192507923299607\n",
      "4.191319381870002\n",
      "4.190137055295659\n",
      "4.1889603220529965\n",
      "4.187788631409918\n",
      "4.186621495167842\n",
      "4.185458480396225\n",
      "4.184299203035685\n",
      "4.18314332226183\n",
      "4.181990535516091\n",
      "4.180840574121919\n",
      "4.179693199415042\n",
      "4.178548199325597\n",
      "4.177405385357871\n",
      "4.176264589919911\n",
      "4.175125663961482\n",
      "4.173988474883836\n",
      "4.172852904689118\n",
      "4.171718848341454\n",
      "4.170586212314791\n",
      "4.169454913305894\n",
      "4.168324877093252\n",
      "4.167196037525071\n",
      "4.166068335621419\n",
      "4.16494171877755\n",
      "4.163816140056648\n",
      "4.1626915575619545\n",
      "4.161567933879151\n",
      "4.160445235580994\n",
      "4.159323432787305\n",
      "4.158202498773825\n",
      "4.1570824096247225\n",
      "4.155963143923544\n",
      "4.154844682478525\n",
      "4.1537270080782775\n",
      "4.152610105274542\n",
      "4.151493960188916\n",
      "4.15037856034093\n",
      "4.149263894495049\n",
      "4.148149952524633\n",
      "4.147036725290708\n",
      "4.14592420453425\n",
      "4.144812382780152\n",
      "4.1437012532518525\n",
      "4.142590809795264\n",
      "4.141481046811086\n",
      "4.140371959194517\n",
      "4.139263542281576\n",
      "4.1381557918013\n",
      "4.137048703833198\n",
      "4.135942274769333\n",
      "4.134836501280534\n",
      "4.1337313802863624\n",
      "4.132626908928329\n",
      "4.131523084546016\n",
      "4.1304199046558265\n",
      "4.129317366932074\n",
      "4.128215469190119\n",
      "4.127114209371336\n",
      "4.12601358552973\n",
      "4.124913595820038\n",
      "4.1238142384871095\n",
      "4.122715511856405\n",
      "4.121617414325632\n",
      "4.12051994435719\n",
      "4.1194231004715025\n",
      "4.118326881241054\n",
      "4.11723128528509\n",
      "4.116136311264884\n",
      "4.115041957879521\n",
      "4.113948223862148\n",
      "4.112855107976646\n",
      "4.111762609014634\n",
      "4.11067072579282\n",
      "4.109579457150652\n",
      "4.108488801948198\n",
      "4.107398759064291\n",
      "4.106309327394825\n",
      "4.105220505851315\n",
      "4.104132293359532\n",
      "4.10304468885835\n",
      "4.1019576912986775\n",
      "4.100871299642538\n",
      "4.099785512862222\n",
      "4.098700329939549\n",
      "4.097615749865207\n",
      "4.09653177163818\n",
      "4.095448394265185\n",
      "4.094365616760241\n",
      "4.093283438144242\n",
      "4.092201857444575\n",
      "4.0911208736947975\n",
      "4.090040485934344\n",
      "4.0889606932082705\n",
      "4.087881494567\n",
      "4.086802889066126\n",
      "4.085724875766231\n",
      "4.084647453732721\n",
      "4.083570622035657\n",
      "4.082494379749638\n",
      "4.081418725953694\n",
      "4.080343659731152\n",
      "4.07926918016956\n",
      "4.078195286360602\n",
      "4.077121977400013\n",
      "4.076049252387522\n",
      "4.074977110426769\n",
      "4.073905550625279\n",
      "4.072834572094382\n",
      "4.071764173949204\n",
      "4.070694355308589\n",
      "4.069625115295086\n",
      "4.068556453034897\n",
      "4.067488367657869\n",
      "4.066420858297453\n",
      "4.065353924090671\n",
      "4.064287564178109\n",
      "4.063221777703885\n",
      "4.062156563815625\n",
      "4.061091921664468\n",
      "4.060027850405005\n",
      "4.058964349195303\n",
      "4.057901417196881\n",
      "4.0568390535746754\n",
      "4.055777257497054\n",
      "4.054716028135777\n",
      "4.053655364666007\n",
      "4.052595266266269\n",
      "4.051535732118486\n",
      "4.0504767614079205\n",
      "4.049418353323168\n",
      "4.0483605070561985\n",
      "4.0473032218022675\n",
      "4.046246496759981\n",
      "4.045190331131221\n",
      "4.044134724121186\n",
      "4.043079674938363\n",
      "4.042025182794501\n",
      "4.040971246904627\n"
     ]
    },
    {
     "data": {
      "image/png": "[encoded data removed]",
      "text/plain": [
       "<Figure size 432x288 with 1 Axes>"
      ]
     },
     "metadata": {
      "needs_background": "light"
     },
     "output_type": "display_data"
    }
   ],
   "source": [
    "theta1,theta2,h_x=grad_descent(theta1,theta2,X_train,Y)"
   ]
  },
  {
   "cell_type": "code",
   "execution_count": 7,
   "id": "60d8871a",
   "metadata": {},
   "outputs": [],
   "source": [
    "y_pred=convert_matrix_into_VECTOR(h_x)"
   ]
  },
  {
   "cell_type": "code",
   "execution_count": 8,
   "id": "f876d1dc",
   "metadata": {},
   "outputs": [
    {
     "data": {
      "text/plain": [
       "array([[18.],\n",
       "       [ 7.],\n",
       "       [16.],\n",
       "       ...,\n",
       "       [ 9.],\n",
       "       [10.],\n",
       "       [12.]])"
      ]
     },
     "execution_count": 8,
     "metadata": {},
     "output_type": "execute_result"
    }
   ],
   "source": [
    "y_pred\n"
   ]
  },
  {
   "cell_type": "code",
   "execution_count": 9,
   "id": "4152a2ee",
   "metadata": {},
   "outputs": [
    {
     "data": {
      "text/plain": [
       "20.31081081081081"
      ]
     },
     "execution_count": 9,
     "metadata": {},
     "output_type": "execute_result"
    }
   ],
   "source": [
    "accuracy(y_train,y_pred)"
   ]
  },
  {
   "cell_type": "code",
   "execution_count": 18,
   "id": "7df3771d",
   "metadata": {},
   "outputs": [
    {
     "name": "stdout",
     "output_type": "stream",
     "text": [
      "uploading a  csv file that is appropriate for logistc regression.......\n"
     ]
    }
   ],
   "source": [
    "X_test,y_test=input_data('emnist-letters-test.csv')"
   ]
  },
  {
   "cell_type": "code",
   "execution_count": 20,
   "id": "d50aae45",
   "metadata": {},
   "outputs": [],
   "source": [
    "y_test_pred=predict(theta1,theta2,X_test)"
   ]
  },
  {
   "cell_type": "code",
   "execution_count": 21,
   "id": "838a32f6",
   "metadata": {},
   "outputs": [
    {
     "data": {
      "text/plain": [
       "1.0"
      ]
     },
     "execution_count": 21,
     "metadata": {},
     "output_type": "execute_result"
    }
   ],
   "source": [
    "np.min(y_test_pred)"
   ]
  },
  {
   "cell_type": "code",
   "execution_count": 22,
   "id": "237ba68d",
   "metadata": {},
   "outputs": [
    {
     "data": {
      "text/plain": [
       "array([[1., 0., 0., ..., 0., 0., 0.],\n",
       "       [1., 0., 0., ..., 0., 0., 0.],\n",
       "       [1., 0., 0., ..., 0., 0., 0.],\n",
       "       ...,\n",
       "       [1., 0., 0., ..., 0., 0., 0.],\n",
       "       [1., 0., 0., ..., 0., 0., 0.],\n",
       "       [1., 0., 0., ..., 0., 0., 0.]])"
      ]
     },
     "execution_count": 22,
     "metadata": {},
     "output_type": "execute_result"
    }
   ],
   "source": [
    "X_test"
   ]
  },
  {
   "cell_type": "code",
   "execution_count": 23,
   "id": "25712ae3",
   "metadata": {},
   "outputs": [
    {
     "data": {
      "text/plain": [
       "22.006756756756758"
      ]
     },
     "execution_count": 23,
     "metadata": {},
     "output_type": "execute_result"
    }
   ],
   "source": [
    "accuracy(y_test_pred,y_test)"
   ]
  },
  {
   "cell_type": "code",
   "execution_count": null,
   "id": "64bce0e6",
   "metadata": {},
   "outputs": [],
   "source": []
  }
 ],
 "metadata": {
  "kernelspec": {
   "display_name": "Python 3 (ipykernel)",
   "language": "python",
   "name": "python3"
  },
  "language_info": {
   "codemirror_mode": {
    "name": "ipython",
    "version": 3
   },
   "file_extension": ".py",
   "mimetype": "text/x-python",
   "name": "python",
   "nbconvert_exporter": "python",
   "pygments_lexer": "ipython3",
   "version": "3.10.2"
  }
 },
 "nbformat": 4,
 "nbformat_minor": 5
}
