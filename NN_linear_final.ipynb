{
 "cells": [
  {
   "cell_type": "markdown",
   "id": "50a09e02",
   "metadata": {},
   "source": [
    "# NEURAL NETWORK"
   ]
  },
  {
   "cell_type": "markdown",
   "id": "387fe4c8",
   "metadata": {},
   "source": [
    "LINEAR REGRESSION DATA SET"
   ]
  },
  {
   "cell_type": "code",
   "execution_count": 1,
   "id": "c52c010e",
   "metadata": {},
   "outputs": [],
   "source": [
    "#importing the modules\n",
    "import numpy as np\n",
    "import pandas as pd\n",
    "get_ipython().run_line_magic('matplotlib', 'inline')\n",
    "from matplotlib import pyplot as plt"
   ]
  },
  {
   "cell_type": "code",
   "execution_count": null,
   "id": "b53beadf",
   "metadata": {},
   "outputs": [],
   "source": [
    "Made few good functions"
   ]
  },
  {
   "cell_type": "code",
   "execution_count": 2,
   "id": "9d88c1ac",
   "metadata": {},
   "outputs": [],
   "source": [
    "\n",
    "'''returns the sigmoid of the input'''\n",
    "def sigmoid (input):\n",
    "    return 1/(1+np.exp(-input))\n",
    "\n",
    "\n",
    "\n",
    "\n",
    "'''extracts the data and sorts into X and y variables respectively adn returns it'''\n",
    "\n",
    "def input_data(s):\n",
    "    print(\"uploading a  csv file that is appropriate for linear regression using neural network.......\")\n",
    "\n",
    "    X=pd.read_csv(s)   #load the training data\n",
    "\n",
    "    # n=int(input(\"enter the number of features.....\"))\n",
    "\n",
    "    X=X.to_numpy()    #converting to numpy\n",
    "    i=len(X[0])       #finding the number of features\n",
    "    m=X[:,0].size   \n",
    "    y=X[:,0].reshape((m,1))\n",
    "    X=np.delete(X,0,axis=1) \n",
    "    n=i                     #n is number of features\n",
    "#     mean=np.mean(X,axis=1).reshape((m,1))\n",
    "#     std=np.std(X,axis=1).reshape((m,1))\n",
    "#     X=(X-mean)/std\n",
    "    u=np.ones((m,1))            #vector of ones then p.\n",
    "    mean=np.mean(X,axis=1).reshape((m,1))\n",
    "    std=np.std(X,axis=1).reshape((m,1))\n",
    "    X=(X-mean)/std\n",
    "    X=np.concatenate((u,X),axis=1)\n",
    "# <!-- #     print(X) -->\n",
    "    return X,y\n",
    "\n",
    "\n",
    "'''randomly initialises the value of theta the parameters'''\n",
    "def parameters(L_next,L_current):\n",
    "    #dimension = L_next*L_current                            \n",
    "    epsilon = 0.12\n",
    "    theta= - epsilon + np.random.rand(L_next, L_current) * 2 * epsilon\n",
    "    return theta\n",
    "    \n",
    "'''the gradient of the sigmoid is returned'''   \n",
    "def siggrad(z):\n",
    "    g=np.zeros((z.shape))\n",
    "    g=sigmoid(z)*(1-sigmoid(z))\n",
    "    return g\n",
    "\n",
    "\n",
    "'''the cost of the algorithm is returned '''    \n",
    "def cost(theta1,theta2,X_train,Y,lamba=0):         #forward propagation\n",
    "    m,n=X_train.shape\n",
    "    u=np.ones((m,1))\n",
    "#     X_train=np.concatenate((u,X_train),axis=1)\n",
    "    a1 = X_train    #m*n\n",
    "    z2 = a1@(theta1.T)  #  m,n  @  n,hiddensize\n",
    "    a2 = sigmoid(z2) # m x hidden_layer\n",
    "    a2 = np.concatenate((u,a2),axis=1)   \n",
    "    z3 = a2@(theta2.T)    \n",
    "    a3 = z3\n",
    "    h_x = a3\n",
    "    J=J = (1/2*m)*np.sum((h_x-Y)**2)\n",
    "    return J,h_x\n",
    "    \n",
    "    \n",
    "'''here the back propagation is applied in order to get the gradients '''\n",
    "def back_prop(theta1,theta2,X,Y):\n",
    "    \n",
    "    A1 = X       # m,785\n",
    "    Z2 = A1@theta1.T      # mx hidden_layer_size == m x 784\n",
    "    A2 = sigmoid(Z2)      #  m x hidden_layer_size == mx 784\n",
    "    m,n=X.shape\n",
    "    u=np.ones((m,1))\n",
    "    A2 = np.concatenate((u,A2),axis=1)\n",
    "    Z3 = A2@theta2.T         #m x num_labels == m x 26\n",
    "    A3 = Z3\n",
    "    h_x = A3                  #m,26\n",
    "    DELTA3 = A3 - Y\n",
    "    m,n=(DELTA3@theta2).shape\n",
    "    DELTA2 = (DELTA3@theta2)*(np.concatenate((np.ones((m,1)),siggrad(Z2)),axis=1))    #m,525    *\n",
    "    DELTA2 = DELTA2[:,1:]\n",
    "    theta1_grad = (1/m) * (DELTA2.T @ A1)\n",
    "    theta2_grad = (1/m) * (DELTA3.T @ A2)\n",
    "    return theta1_grad,theta2_grad\n",
    "\n",
    "\n",
    "'''the loops are processed here to get the optimum value of theta by applying the gradient descent technique'''\n",
    "def grad_descent(theta1,theta2,X,Y):\n",
    "    alpha=0.1\n",
    "    for i in range(200):\n",
    "        \n",
    "        theta1_grad,theta2_grad=back_prop(theta1,theta2,X,Y)\n",
    "        theta2=theta2-theta2_grad*alpha\n",
    "        theta1=theta1-theta1_grad*alpha\n",
    "        J,h_x=cost(theta1,theta2,X_train,Y)\n",
    "        plt.scatter(i,J)\n",
    "        print(J)\n",
    "\n",
    "\n",
    "    return theta1,theta2,h_x\n",
    "\n",
    "\n",
    "'''on the new test data it gives us the desired output'''\n",
    "def predict(theta1,theta2,X):\n",
    "#     X=X/255\n",
    "    m,n=X.shape\n",
    "    u=np.ones((m,1))\n",
    "    a1 = X    #m*n\n",
    "    z2 = a1@(theta1.T)  #  m,n  @  n,hiddensize\n",
    "    a2 = sigmoid(z2) # m x hidden_layer\n",
    "    a2 = np.concatenate((u,a2),axis=1)   \n",
    "    z3 = a2@(theta2.T)    \n",
    "    a3 = z3\n",
    "    h_x = a3\n",
    "    return (h_x)\n",
    "    \n",
    "\n",
    "\n"
   ]
  },
  {
   "cell_type": "markdown",
   "id": "ac69de45",
   "metadata": {},
   "source": [
    "inputting the data "
   ]
  },
  {
   "cell_type": "code",
   "execution_count": 3,
   "id": "3d325244",
   "metadata": {},
   "outputs": [
    {
     "name": "stdout",
     "output_type": "stream",
     "text": [
      "uploading a  csv file that is appropriate for linear regression using neural network.......\n"
     ]
    }
   ],
   "source": [
    "X_train,y_train=input_data('Linear_train.csv')"
   ]
  },
  {
   "cell_type": "code",
   "execution_count": 4,
   "id": "019a2c16",
   "metadata": {},
   "outputs": [],
   "source": [
    "theta1=parameters(20,21)\n",
    "theta2=parameters(1,21)"
   ]
  },
  {
   "cell_type": "code",
   "execution_count": 5,
   "id": "453703da",
   "metadata": {},
   "outputs": [
    {
     "name": "stdout",
     "output_type": "stream",
     "text": [
      "(20, 21)\n",
      "(1, 21)\n"
     ]
    }
   ],
   "source": [
    "print(theta1.shape)\n",
    "print(theta2.shape)\n",
    "# mn=np.mean(y_train)\n",
    "# st=np.std(y_train)\n",
    "# y_train=(y_train-mn)/st\n"
   ]
  },
  {
   "cell_type": "markdown",
   "id": "68da42f3",
   "metadata": {},
   "source": [
    " calling the above defined functions"
   ]
  },
  {
   "cell_type": "code",
   "execution_count": 6,
   "id": "5011f4b4",
   "metadata": {},
   "outputs": [
    {
     "name": "stdout",
     "output_type": "stream",
     "text": [
      "1043066039863.2365\n",
      "1042992312781.9734\n",
      "1042909302531.3778\n",
      "1042810714683.7548\n",
      "1042692322596.0731\n",
      "1042550236360.6274\n",
      "1042380934030.445\n",
      "1042181636784.3967\n",
      "1041950818576.6293\n",
      "1041688755927.543\n",
      "1041397997003.4589\n",
      "1041083603351.6901\n",
      "1040753031844.6083\n",
      "1040415592945.8789\n",
      "1040081532898.4231\n",
      "1039760904137.5354\n",
      "1039462461094.2712\n",
      "1039192813276.3822\n",
      "1038955985667.935\n",
      "1038753415309.7998\n",
      "1038584302972.0045\n",
      "1038446176407.365\n",
      "1038335514905.1515\n",
      "1038248318463.4579\n",
      "1038180554799.191\n",
      "1038128463623.236\n",
      "1038088729739.9274\n",
      "1038058552927.3168\n",
      "1038035646604.6843\n",
      "1038018193887.3839\n",
      "1038004783012.0529\n",
      "1037994337104.8452\n",
      "1037986047313.0708\n",
      "1037979313910.2933\n",
      "1037973697053.7806\n",
      "1037968877125.1208\n",
      "1037964623677.8804\n",
      "1037960771652.4674\n",
      "1037957203473.1403\n",
      "1037953835761.9414\n",
      "1037950609592.9683\n",
      "1037947483412.49\n",
      "1037944427937.4852\n",
      "1037941422505.2463\n",
      "1037938452476.9768\n",
      "1037935507400.794\n",
      "1037932579718.1465\n",
      "1037929663856.8162\n",
      "1037926755597.5463\n",
      "1037923851633.4807\n",
      "1037920949264.9302\n",
      "1037918046188.797\n",
      "1037915140353.9901\n",
      "1037912229862.7252\n",
      "1037909312903.6572\n",
      "1037906387707.0463\n",
      "1037903452515.1676\n",
      "1037900505563.2631\n",
      "1037897545067.7933\n",
      "1037894569219.7727\n",
      "1037891576181.6615\n",
      "1037888564086.79\n",
      "1037885531040.6051\n",
      "1037882475123.2782\n",
      "1037879394393.35\n",
      "1037876286892.2025\n",
      "1037873150649.2137\n",
      "1037869983687.4949\n",
      "1037866784030.1372\n",
      "1037863549706.9093\n",
      "1037860278761.3556\n",
      "1037856969258.2476\n",
      "1037853619291.3356\n",
      "1037850226991.342\n",
      "1037846790534.1412\n",
      "1037843308149.0446\n",
      "1037839778127.1234\n",
      "1037836198829.4783\n",
      "1037832568695.3652\n",
      "1037828886250.0818\n",
      "1037825150112.5127\n",
      "1037821359002.2318\n",
      "1037817511746.0568\n",
      "1037813607283.9623\n",
      "1037809644674.2502\n",
      "1037805623097.8956\n",
      "1037801541861.992\n",
      "1037797400402.2302\n",
      "1037793198284.3685\n",
      "1037788935204.656\n",
      "1037784610989.2046\n",
      "1037780225592.3088\n",
      "1037775779093.7476\n",
      "1037771271695.1093\n",
      "1037766703715.2031\n",
      "1037762075584.6439\n",
      "1037757387839.7018\n",
      "1037752641115.5244\n",
      "1037747836138.8589\n",
      "1037742973720.3818\n",
      "1037738054746.7852\n",
      "1037733080172.7267\n",
      "1037728051012.7837\n",
      "1037722968333.5176\n",
      "1037717833245.7656\n",
      "1037712646897.2549\n",
      "1037707410465.6222\n",
      "1037702125151.9142\n",
      "1037696792174.6249\n",
      "1037691412764.3053\n",
      "1037685988158.7823\n",
      "1037680519598.993\n",
      "1037675008325.432\n",
      "1037669455575.2095\n",
      "1037663862579.6836\n",
      "1037658230562.6482\n",
      "1037652560739.0306\n",
      "1037646854314.0531\n",
      "1037641112482.8175\n",
      "1037635336430.2537\n",
      "1037629527331.3861\n",
      "1037623686351.8625\n",
      "1037617814648.6964\n",
      "1037611913371.1742\n",
      "1037605983661.879\n",
      "1037600026657.793\n",
      "1037594043491.4329\n",
      "1037588035291.992\n",
      "1037582003186.4471\n",
      "1037575948300.6182\n",
      "1037569871760.1409\n",
      "1037563774691.3502\n",
      "1037557658222.0483\n",
      "1037551523482.1532\n",
      "1037545371604.2148\n",
      "1037539203723.7998\n",
      "1037533020979.7367\n",
      "1037526824514.2296\n",
      "1037520615472.835\n",
      "1037514395004.3125\n",
      "1037508164260.3567\n",
      "1037501924395.2101\n",
      "1037495676565.1735\n",
      "1037489421928.0225\n",
      "1037483161642.3342\n",
      "1037476896866.7448\n",
      "1037470628759.1366\n",
      "1037464358475.777\n",
      "1037458087170.4095\n",
      "1037451815993.3165\n",
      "1037445546090.3544\n",
      "1037439278601.9781\n",
      "1037433014662.2582\n",
      "1037426755397.9004\n",
      "1037420501927.276\n",
      "1037414255359.4677\n",
      "1037408016793.337\n",
      "1037401787316.6173\n",
      "1037395568005.0409\n",
      "1037389359921.4955\n",
      "1037383164115.2231\n",
      "1037376981621.0536\n",
      "1037370813458.6824\n",
      "1037364660631.9878\n",
      "1037358524128.391\n",
      "1037352404918.2599\n",
      "1037346303954.3534\n",
      "1037340222171.3082\n",
      "1037334160485.1683\n",
      "1037328119792.9495\n",
      "1037322100972.249\n",
      "1037316104880.8865\n",
      "1037310132356.5878\n",
      "1037304184216.696\n",
      "1037298261257.9236\n",
      "1037292364256.1304\n",
      "1037286493966.1357\n",
      "1037280651121.559\n",
      "1037274836434.6886\n",
      "1037269050596.3771\n",
      "1037263294275.9631\n",
      "1037257568121.217\n",
      "1037251872758.3118\n",
      "1037246208791.8142\n",
      "1037240576804.7004\n",
      "1037234977358.3914\n",
      "1037229410992.8079\n",
      "1037223878226.4475\n",
      "1037218379556.4777\n",
      "1037212915458.8461\n",
      "1037207486388.4163\n",
      "1037202092779.107\n",
      "1037196735044.0596\n",
      "1037191413575.8163\n",
      "1037186128746.511\n",
      "1037180880908.0806\n",
      "1037175670392.4829\n",
      "1037170497511.935\n",
      "1037165362559.1583\n",
      "1037160265807.6376\n"
     ]
    },
    {
     "data": {
      "image/png": "[encoded data removed]",
      "text/plain": [
       "<Figure size 432x288 with 1 Axes>"
      ]
     },
     "metadata": {
      "needs_background": "light"
     },
     "output_type": "display_data"
    }
   ],
   "source": [
    "theta1,theta2,h_x=grad_descent(theta1,theta2,X_train,y_train)"
   ]
  },
  {
   "cell_type": "code",
   "execution_count": 7,
   "id": "d52475fd",
   "metadata": {},
   "outputs": [
    {
     "data": {
      "text/plain": [
       "28.805003257179298"
      ]
     },
     "execution_count": 7,
     "metadata": {},
     "output_type": "execute_result"
    }
   ],
   "source": [
    "rmse=(np.mean(((h_x-y_train)**2)))**0.5\n",
    "\n",
    "rmse"
   ]
  },
  {
   "cell_type": "code",
   "execution_count": 8,
   "id": "f4389d45",
   "metadata": {},
   "outputs": [
    {
     "name": "stdout",
     "output_type": "stream",
     "text": [
      "uploading a  csv file that is appropriate for linear regression using neural network.......\n"
     ]
    }
   ],
   "source": [
    "X_test,y_test=input_data('Linear_test.csv')"
   ]
  },
  {
   "cell_type": "code",
   "execution_count": null,
   "id": "52b68490",
   "metadata": {},
   "outputs": [],
   "source": []
  },
  {
   "cell_type": "code",
   "execution_count": 9,
   "id": "2ab13503",
   "metadata": {},
   "outputs": [],
   "source": [
    "y_test_pred=predict(theta1,theta2,X_test)"
   ]
  },
  {
   "cell_type": "code",
   "execution_count": 10,
   "id": "0103ae2f",
   "metadata": {},
   "outputs": [],
   "source": [
    "# y_test_pred=(y_test_pred*st)+mn"
   ]
  },
  {
   "cell_type": "code",
   "execution_count": 11,
   "id": "9efb33b8",
   "metadata": {},
   "outputs": [
    {
     "data": {
      "text/plain": [
       "28.84474116576372"
      ]
     },
     "execution_count": 11,
     "metadata": {},
     "output_type": "execute_result"
    }
   ],
   "source": [
    "(np.mean((y_test_pred-y_test)**2))**0.5"
   ]
  },
  {
   "cell_type": "code",
   "execution_count": 12,
   "id": "ad3e2a23",
   "metadata": {},
   "outputs": [
    {
     "data": {
      "text/plain": [
       "array([[-0.59843483],\n",
       "       [ 2.55243123],\n",
       "       [ 0.57724783],\n",
       "       ...,\n",
       "       [-1.13216552],\n",
       "       [ 0.34005148],\n",
       "       [-3.52295815]])"
      ]
     },
     "execution_count": 12,
     "metadata": {},
     "output_type": "execute_result"
    }
   ],
   "source": [
    "y_test_pred"
   ]
  },
  {
   "cell_type": "code",
   "execution_count": 13,
   "id": "0deed46c",
   "metadata": {},
   "outputs": [
    {
     "data": {
      "text/plain": [
       "array([[ 40.79073983],\n",
       "       [ 47.96874905],\n",
       "       [  9.76256429],\n",
       "       ...,\n",
       "       [-34.73427806],\n",
       "       [-30.75235423],\n",
       "       [ 39.75797158]])"
      ]
     },
     "execution_count": 13,
     "metadata": {},
     "output_type": "execute_result"
    }
   ],
   "source": [
    "y_test"
   ]
  },
  {
   "cell_type": "code",
   "execution_count": null,
   "id": "84e0ee99",
   "metadata": {},
   "outputs": [],
   "source": []
  }
 ],
 "metadata": {
  "kernelspec": {
   "display_name": "Python 3 (ipykernel)",
   "language": "python",
   "name": "python3"
  },
  "language_info": {
   "codemirror_mode": {
    "name": "ipython",
    "version": 3
   },
   "file_extension": ".py",
   "mimetype": "text/x-python",
   "name": "python",
   "nbconvert_exporter": "python",
   "pygments_lexer": "ipython3",
   "version": "3.10.2"
  }
 },
 "nbformat": 4,
 "nbformat_minor": 5
}
