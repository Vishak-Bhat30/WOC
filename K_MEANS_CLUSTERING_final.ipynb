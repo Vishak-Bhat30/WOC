{
 "cells": [
  {
   "cell_type": "markdown",
   "id": "0e878215",
   "metadata": {},
   "source": [
    "# K MEANS CLSUTERING "
   ]
  },
  {
   "cell_type": "code",
   "execution_count": 1,
   "id": "325f2283",
   "metadata": {},
   "outputs": [],
   "source": [
    "import numpy as np\n",
    "import pandas as pd\n",
    "get_ipython().run_line_magic('matplotlib', 'inline')\n",
    "from matplotlib import pyplot as plt\n"
   ]
  },
  {
   "cell_type": "code",
   "execution_count": 3,
   "id": "609278c8",
   "metadata": {},
   "outputs": [],
   "source": [
    "'''inputs the data '''\n",
    "def input_data(s):\n",
    "    data=pd.read_csv(s,header=None)\n",
    "    data=data.to_numpy()\n",
    "    X=data[:,1:]\n",
    "    m,n=X.shape\n",
    "    y_train=data[:,0].reshape(m,1)\n",
    "    return X , y_train,m,n\n",
    "\n",
    "\n",
    "\n",
    "'''randomly appoints 26 rows from the X as to the centroids'''\n",
    "def initial_centroid_initializing(X):\n",
    "        m_train,n_train=X.shape\n",
    "        K=26\n",
    "        index=np.random.randint(0,m_train,26)\n",
    "        centroid=[]\n",
    "        for i in index:\n",
    "            \n",
    "            centroid.append(X[i])\n",
    "            \n",
    "            \n",
    "        return np.array(centroid)\n",
    "    \n",
    " \n",
    "\n",
    "\n",
    "'''this clusters the X into different groups'''\n",
    "def KMC(centroid,X):\n",
    "        m,n=X.shape\n",
    "        cluster_grp=np.zeros((m,1))\n",
    "        for i in range(m):\n",
    "            diff=centroid-X[i]\n",
    "            square=diff**2\n",
    "            add=np.sum(square,axis=1)\n",
    "            dist=np.sqrt(add).reshape(26,1)\n",
    "#             print(dist)\n",
    "#             print(dist.shape)\n",
    "            index=np.argmin(dist)\n",
    "            cluster_grp[i]=index+1\n",
    "#             print(cluster_grp[i])\n",
    "        return cluster_grp \n",
    "    \n",
    "    \n",
    "# def initial_cluster_making(centroid,X):\n",
    "#     m,n=X.shape\n",
    "#     for i in range(m):\n",
    "#         dist=distance(centroid,X)\n",
    "#         ptint(dist)\n",
    "    \n",
    "'''the centroids is updated'''    \n",
    "def future_centroids(cluster_grp,X_train):\n",
    "    m=cluster_grp.size\n",
    "    centroid_new=[]\n",
    "    for j in range(1,27):\n",
    "        grp=[]\n",
    "        flag=0\n",
    "        for i in range(m):\n",
    "            if (cluster_grp[i]==j):\n",
    "                grp.append(X_train[flag])\n",
    "            flag+=1\n",
    "        grp=np.mean(grp,axis=0)\n",
    "        centroid_new.append(grp)\n",
    "#         print(f'the iteration number is {j}out of 26')\n",
    "    return np.array(centroid_new)\n",
    "        \n",
    "        \n",
    "'''the centroid is updated again and again and finally the clusters are formed'''           \n",
    "def KMeans(centroid_new,X_train):\n",
    "    for i in range(50):\n",
    "        clustering=KMC(centroid_new,X_train)\n",
    "        centroid_new=future_centroids(clustering,X_train)\n",
    "#         print(wc_ss(centroid_new,X_train))\n",
    "        print(f'the iteration number is {i}out of 50')\n",
    "    return clustering\n",
    "\n",
    "# '''returns the within cluster sum of square which acts like the cost of the function'''\n",
    "# def wc_ss(centroid,X_train):\n",
    "    \n",
    "#     m,n=X_train.shape\n",
    "#     wcss=0\n",
    "#     for i in range(m):\n",
    "#         wcss=wcss+np.sum(((centroid-X_train[i])**2))\n",
    "        \n",
    "#     return wcss"
   ]
  },
  {
   "cell_type": "code",
   "execution_count": 4,
   "id": "c9c94b1b",
   "metadata": {},
   "outputs": [],
   "source": [
    "X_train, y_train, m_train, n_train=input_data('emnist-letters-test.csv')\n"
   ]
  },
  {
   "cell_type": "code",
   "execution_count": 5,
   "id": "9b6eb39e",
   "metadata": {},
   "outputs": [],
   "source": [
    "K=26"
   ]
  },
  {
   "cell_type": "code",
   "execution_count": 6,
   "id": "e9b58a91",
   "metadata": {},
   "outputs": [],
   "source": [
    "centroid=(initial_centroid_initializing(X_train))"
   ]
  },
  {
   "cell_type": "code",
   "execution_count": 7,
   "id": "0eb6ab14",
   "metadata": {},
   "outputs": [],
   "source": [
    "index=np.random.randint(0,m_train,26)\n",
    "# type(index)"
   ]
  },
  {
   "cell_type": "code",
   "execution_count": 8,
   "id": "ca64a305",
   "metadata": {},
   "outputs": [],
   "source": [
    "cluster_random=KMC(centroid,X_train)"
   ]
  },
  {
   "cell_type": "code",
   "execution_count": 9,
   "id": "a84fa1ef",
   "metadata": {},
   "outputs": [],
   "source": [
    "centroid_new=future_centroids(cluster_random,X_train)"
   ]
  },
  {
   "cell_type": "code",
   "execution_count": 10,
   "id": "060737b8",
   "metadata": {},
   "outputs": [
    {
     "name": "stdout",
     "output_type": "stream",
     "text": [
      "2119314266193.541\n",
      "the iteration number is 0out of 50\n",
      "2131315831360.9678\n",
      "the iteration number is 1out of 50\n",
      "2138574478103.0322\n",
      "the iteration number is 2out of 50\n",
      "2143831590871.6296\n",
      "the iteration number is 3out of 50\n",
      "2147630048520.6145\n",
      "the iteration number is 4out of 50\n",
      "2149717340908.5513\n",
      "the iteration number is 5out of 50\n",
      "2151771449329.997\n",
      "the iteration number is 6out of 50\n",
      "2153218178696.4304\n",
      "the iteration number is 7out of 50\n",
      "2154488594904.2388\n",
      "the iteration number is 8out of 50\n",
      "2155569074501.3625\n",
      "the iteration number is 9out of 50\n",
      "2156410299305.5137\n",
      "the iteration number is 10out of 50\n",
      "2157009599022.1992\n",
      "the iteration number is 11out of 50\n",
      "2157469264096.9316\n",
      "the iteration number is 12out of 50\n",
      "2158204493021.5942\n",
      "the iteration number is 13out of 50\n",
      "2158565900666.0784\n",
      "the iteration number is 14out of 50\n",
      "2158590273314.1052\n",
      "the iteration number is 15out of 50\n",
      "2158722750792.0344\n",
      "the iteration number is 16out of 50\n",
      "2158793300063.828\n",
      "the iteration number is 17out of 50\n",
      "2159047628431.766\n",
      "the iteration number is 18out of 50\n",
      "2159261316239.7979\n",
      "the iteration number is 19out of 50\n",
      "2159702362921.4565\n",
      "the iteration number is 20out of 50\n",
      "2159943599105.7153\n",
      "the iteration number is 21out of 50\n",
      "2160179230021.5728\n",
      "the iteration number is 22out of 50\n",
      "2160332534800.4807\n",
      "the iteration number is 23out of 50\n",
      "2160520759568.3262\n",
      "the iteration number is 24out of 50\n",
      "2160514536178.2605\n",
      "the iteration number is 25out of 50\n",
      "2160539791200.4463\n",
      "the iteration number is 26out of 50\n",
      "2160422442116.0576\n",
      "the iteration number is 27out of 50\n",
      "2160484699385.944\n",
      "the iteration number is 28out of 50\n",
      "2160496664482.1716\n",
      "the iteration number is 29out of 50\n",
      "2160731297019.4795\n",
      "the iteration number is 30out of 50\n",
      "2161231462986.8555\n",
      "the iteration number is 31out of 50\n",
      "2161801898855.1023\n",
      "the iteration number is 32out of 50\n",
      "2162379087611.6853\n",
      "the iteration number is 33out of 50\n",
      "2162819960318.625\n",
      "the iteration number is 34out of 50\n",
      "2162928582725.8545\n",
      "the iteration number is 35out of 50\n",
      "2163079903906.7212\n",
      "the iteration number is 36out of 50\n",
      "2163106603714.9453\n",
      "the iteration number is 37out of 50\n",
      "2163168812891.3435\n",
      "the iteration number is 38out of 50\n",
      "2163135474644.6533\n",
      "the iteration number is 39out of 50\n",
      "2163107461466.6323\n",
      "the iteration number is 40out of 50\n",
      "2163163336007.4858\n",
      "the iteration number is 41out of 50\n",
      "2163347592046.1926\n",
      "the iteration number is 42out of 50\n",
      "2163357465252.8904\n",
      "the iteration number is 43out of 50\n",
      "2163331772079.372\n",
      "the iteration number is 44out of 50\n",
      "2163353160531.6743\n",
      "the iteration number is 45out of 50\n",
      "2163347879710.927\n",
      "the iteration number is 46out of 50\n",
      "2163283543260.8481\n",
      "the iteration number is 47out of 50\n",
      "2163264529146.9656\n",
      "the iteration number is 48out of 50\n",
      "2163226121143.7131\n",
      "the iteration number is 49out of 50\n"
     ]
    }
   ],
   "source": [
    "cluster_final=KMeans(centroid_new,X_train)"
   ]
  },
  {
   "cell_type": "code",
   "execution_count": 14,
   "id": "72fa6b31",
   "metadata": {},
   "outputs": [
    {
     "data": {
      "text/plain": [
       "array([[20.],\n",
       "       [22.],\n",
       "       [20.],\n",
       "       [ 7.],\n",
       "       [16.],\n",
       "       [15.],\n",
       "       [20.],\n",
       "       [20.],\n",
       "       [ 2.],\n",
       "       [22.],\n",
       "       [ 3.],\n",
       "       [20.],\n",
       "       [ 9.],\n",
       "       [10.],\n",
       "       [ 3.],\n",
       "       [11.],\n",
       "       [20.],\n",
       "       [10.],\n",
       "       [ 2.],\n",
       "       [ 6.]])"
      ]
     },
     "execution_count": 14,
     "metadata": {},
     "output_type": "execute_result"
    }
   ],
   "source": [
    "cluster_final[:20]"
   ]
  },
  {
   "cell_type": "code",
   "execution_count": null,
   "id": "78cd0c19",
   "metadata": {},
   "outputs": [],
   "source": []
  }
 ],
 "metadata": {
  "kernelspec": {
   "display_name": "Python 3 (ipykernel)",
   "language": "python",
   "name": "python3"
  },
  "language_info": {
   "codemirror_mode": {
    "name": "ipython",
    "version": 3
   },
   "file_extension": ".py",
   "mimetype": "text/x-python",
   "name": "python",
   "nbconvert_exporter": "python",
   "pygments_lexer": "ipython3",
   "version": "3.10.2"
  }
 },
 "nbformat": 4,
 "nbformat_minor": 5
}
